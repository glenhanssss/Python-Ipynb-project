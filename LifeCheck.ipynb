{
  "nbformat": 4,
  "nbformat_minor": 0,
  "metadata": {
    "colab": {
      "provenance": []
    },
    "kernelspec": {
      "name": "python3",
      "display_name": "Python 3"
    },
    "language_info": {
      "name": "python"
    }
  },
  "cells": [
    {
      "cell_type": "code",
      "execution_count": 7,
      "metadata": {
        "colab": {
          "base_uri": "https://localhost:8080/"
        },
        "id": "qMPQIVuBhF9h",
        "outputId": "82a48994-8540-468a-aa35-2d3a616ba6db"
      },
      "outputs": [
        {
          "output_type": "stream",
          "name": "stdout",
          "text": [
            "still alive? input '1'\n",
            "Input -> 8\n",
            "It isn't Life.\n"
          ]
        }
      ],
      "source": [
        "#still alive? input \"1\"\n",
        "print(\"still alive? input '1'\")\n",
        "x = int(input(\"Input -> \"))\n",
        "if x==1:\n",
        "  print(\"You're Alive, Lets Contribute and Keep Learning!\")\n",
        "else:\n",
        "  print(\"It isn't Life.\")"
      ]
    }
  ]
}