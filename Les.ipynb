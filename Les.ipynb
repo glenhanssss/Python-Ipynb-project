{
  "nbformat": 4,
  "nbformat_minor": 0,
  "metadata": {
    "colab": {
      "provenance": []
    },
    "kernelspec": {
      "name": "python3",
      "display_name": "Python 3"
    },
    "language_info": {
      "name": "python"
    }
  },
  "cells": [
    {
      "cell_type": "code",
      "execution_count": null,
      "metadata": {
        "colab": {
          "base_uri": "https://localhost:8080/"
        },
        "id": "woPvohl5EbSG",
        "outputId": "d4b1e8ea-3016-4bd8-c5d5-5f15b9982377"
      },
      "outputs": [
        {
          "output_type": "stream",
          "name": "stdout",
          "text": [
            "180000 170000 50000 170000\n",
            "570000\n",
            "2280000\n"
          ]
        }
      ],
      "source": [
        "#SKEMA 1, SD = 20000, SMP = 25000, SMA = 30000#\n",
        "\n",
        "az=20000*9\n",
        "ag=30000*4+25000*2\n",
        "agl=25000*2\n",
        "g=30000*2+25000*2+20000*3\n",
        "\n",
        "total_seminggu=az+ag+agl+g\n",
        "\n",
        "print(az, ag, agl, g)\n",
        "print(total_seminggu)\n",
        "print(total_seminggu*4)"
      ]
    },
    {
      "cell_type": "code",
      "source": [
        "#SKEMA 2, SD SMP SMA = 25000\n",
        "\n",
        "az2=25000*9\n",
        "ag2=25000*6\n",
        "agl2=25000*2\n",
        "g2=25000*7\n",
        "\n",
        "total_seminggu2=az2+ag2+agl2+g2\n",
        "\n",
        "print(az2, ag2, agl2, g2)\n",
        "print(total_seminggu2)\n",
        "print(total_seminggu2*4)"
      ],
      "metadata": {
        "colab": {
          "base_uri": "https://localhost:8080/"
        },
        "id": "0XeX-7zRGADF",
        "outputId": "ec0f6b94-5aaf-464d-9a9c-9666c7359114"
      },
      "execution_count": null,
      "outputs": [
        {
          "output_type": "stream",
          "name": "stdout",
          "text": [
            "225000 150000 50000 175000\n",
            "600000\n",
            "2400000\n"
          ]
        }
      ]
    },
    {
      "cell_type": "code",
      "source": [
        "#SKEMA 2, SD SMP SMA = 25000\n",
        "\n",
        "az2=25000*8\n",
        "ag2=25000*6\n",
        "agl2=25000*2\n",
        "g2=25000*8\n",
        "\n",
        "total_seminggu2=az2+ag2+agl2+g2\n",
        "\n",
        "print(az2, ag2, agl2, g2)\n",
        "print(total_seminggu2)\n",
        "print(total_seminggu2*4)"
      ],
      "metadata": {
        "colab": {
          "base_uri": "https://localhost:8080/"
        },
        "id": "ziFTLozLy86f",
        "outputId": "1e21a26b-e381-4630-873f-15ca79cf4fcc"
      },
      "execution_count": null,
      "outputs": [
        {
          "output_type": "stream",
          "name": "stdout",
          "text": [
            "200000 150000 50000 200000\n",
            "600000\n",
            "2400000\n"
          ]
        }
      ]
    }
  ]
}