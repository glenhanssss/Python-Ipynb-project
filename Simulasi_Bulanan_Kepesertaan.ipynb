{
  "nbformat": 4,
  "nbformat_minor": 0,
  "metadata": {
    "colab": {
      "provenance": []
    },
    "kernelspec": {
      "name": "python3",
      "display_name": "Python 3"
    },
    "language_info": {
      "name": "python"
    }
  },
  "cells": [
    {
      "cell_type": "code",
      "execution_count": null,
      "metadata": {
        "colab": {
          "base_uri": "https://localhost:8080/"
        },
        "id": "B7HeBInj_jpw",
        "outputId": "7f5b0113-2607-40f8-f7ec-858b6c16e99f"
      },
      "outputs": [
        {
          "output_type": "stream",
          "name": "stdout",
          "text": [
            "Nama Peserta = pak rudi\n",
            "PHDP = 23450000\n",
            "Peserta 6% = 1407000.0\n",
            "Pemberi Kerja 12.4% = 2907800.0\n",
            "Manfaat Lain 1.6% = 375200.0\n",
            "Total Iuran 20% = 4690000.0\n"
          ]
        }
      ],
      "source": [
        "#JUMLAH IURAN NORMAL PROGRAM PENSIUN DITERIMA (per 1 Bulan)\n",
        "\n",
        "#Meminta input Nama Peserta dan besar PHDP (Penghasilan Dasar Pensiun)\n",
        "Nama_Peserta = str(input(\"Nama Peserta = \"))\n",
        "PHDP = float(input(\"PHDP = \"))\n",
        "\n",
        "#Menghitung Besaran dari setiap Iuran sesuai dengan Rumus\n",
        "Peserta = (6/100)*PHDP\n",
        "Pemberi_Kerja = (12.4/100)*PHDP\n",
        "Manfaat_Lain = (1.6/100)*PHDP\n",
        "TTL_Iuran = Peserta + Pemberi_Kerja + Manfaat_Lain\n",
        "\n",
        "# Menampilkan Hasil dari Perhitungan diatas\n",
        "print(\"Peserta 6% =\", Peserta)\n",
        "print(\"Pemberi Kerja 12.4% =\", Pemberi_Kerja)\n",
        "print(\"Manfaat Lain 1.6% =\", Manfaat_Lain)\n",
        "print(\"Total Iuran 20% =\", TTL_Iuran)\n",
        "\n"
      ]
    }
  ]
}