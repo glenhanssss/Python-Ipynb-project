{
  "nbformat": 4,
  "nbformat_minor": 0,
  "metadata": {
    "colab": {
      "provenance": []
    },
    "kernelspec": {
      "name": "python3",
      "display_name": "Python 3"
    },
    "language_info": {
      "name": "python"
    }
  },
  "cells": [
    {
      "cell_type": "code",
      "execution_count": null,
      "metadata": {
        "colab": {
          "base_uri": "https://localhost:8080/"
        },
        "id": "4hU9EYtL7ey-",
        "outputId": "7ae84581-7030-4ec9-87e9-727f2c642a76"
      },
      "outputs": [
        {
          "output_type": "stream",
          "name": "stdout",
          "text": [
            "Jenis Metode Pembayaran : 1.Kartu Kredit | 2.Cash\n",
            "Ketik 1 pada Metode Pembayaran kalo pake Kartu Kredit\n",
            "Ketik 2 pada Metode Pembayaran kalo pake Cash\n",
            "\n",
            "Metode Pembayaran -> 1\n",
            "BAYAR PAKE KARTU KREDIT\n",
            "\n",
            "Harga Total = 2500000\n",
            "dapet diskon 15% =  375000.0 , jadi Cukup Bayar 2125000.0\n"
          ]
        }
      ],
      "source": [
        "#ketentuan Metode Pembayaran\n",
        "print(\"Jenis Metode Pembayaran : 1.Kartu Kredit | 2.Cash\")\n",
        "print(\"Ketik 1 pada Metode Pembayaran kalo pake Kartu Kredit\")\n",
        "print(\"Ketik 2 pada Metode Pembayaran kalo pake Cash\\n\")\n",
        "\n",
        "#nentuin Metode Pembayaran, input angka 1 atau 2\n",
        "MP = int(input(\"Metode Pembayaran -> \"))\n",
        "\n",
        "#metode Pembayaran Kartu Kredit\n",
        "if MP == 1:\n",
        "  print(\"BAYAR PAKE KARTU KREDIT\\n\")\n",
        "#minta input kartu kredit\n",
        "  kk = float(input(\"Harga Total = \"))\n",
        "#hitung diskon kartu kredit\n",
        "  dkk15 = (15/100)*kk\n",
        "  dkk10 = (10/100)*kk\n",
        "  dkk5 = (5/100)*kk\n",
        "#kasus kartu kredit\n",
        "  if kk > 0:\n",
        "    if kk > 1000000:\n",
        "      print(\"dapet diskon 15% = \", dkk15, \", jadi Cukup Bayar\", kk-dkk15)\n",
        "    elif kk >= 500000:\n",
        "      print(\"dapet diskon 10% = \", dkk10, \", jjadi Cukup Bayar\", kk-dkk10)\n",
        "    else:\n",
        "      print(\"dapet diskon 5% = \", dkk5, \", jadi Cukup Bayar\", kk-dkk5)\n",
        "\n",
        "#metode Pembayaran Cash\n",
        "elif MP== 2:\n",
        "  print(\"BAYAR PAKE CASH\\n\")\n",
        "#minta input cash\n",
        "  cash = float(input(\"Harga Total = \"))\n",
        "#hitung diskon cash\n",
        "  dcash10 = (10/100)*cash\n",
        "  dcash5 = (5/100)*cash\n",
        "#kasus cash\n",
        "  if cash > 0: \n",
        "    if cash > 1000000:\n",
        "      print(\"dapet diskon 10% = \", dcash10, \", jadi Cukup Bayar\", cash-dcash10)\n",
        "    elif cash >= 500000:\n",
        "      print(\"dapet diskon 5% = \", dcash5, \", jadi Cukup Bayar\", cash-dcash5)\n",
        "    else:\n",
        "      print(\"ga ada diskon,\", \"jadi Tetap Bayar \", cash)\n",
        "\n",
        "else:\n",
        "  print(\"cuma bisa bayar pake KARTU KREDIT sama CASH\")"
      ]
    }
  ]
}