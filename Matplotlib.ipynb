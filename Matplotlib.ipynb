{
  "nbformat": 4,
  "nbformat_minor": 0,
  "metadata": {
    "colab": {
      "provenance": []
    },
    "kernelspec": {
      "name": "python3",
      "display_name": "Python 3"
    },
    "language_info": {
      "name": "python"
    }
  },
  "cells": [
    {
      "cell_type": "markdown",
      "metadata": {
        "id": "NaMJ5lyRsryr"
      },
      "source": [
        "Latihan soal 1.2 Mengerjakan soal dengan Python\n"
      ]
    },
    {
      "cell_type": "code",
      "metadata": {
        "colab": {
          "base_uri": "https://localhost:8080/",
          "height": 290
        },
        "id": "aKcNtGw60EA7",
        "outputId": "967cd707-b641-4d4e-8011-f469e2b8be5b"
      },
      "source": [
        "import numpy as np\n",
        "from scipy.integrate import odeint\n",
        "import matplotlib.pyplot as plt\n",
        "\n",
        "# fungsi untuk mendefinisikan dy/dt\n",
        "def model(y,t):\n",
        "    dydt =2+2*y+t+t*y\n",
        "    return dydt\n",
        "\n",
        "# nilai awal\n",
        "y0 = 5\n",
        "\n",
        "# waktu dari t=0, hingga t=20\n",
        "t = np.linspace(0,20)\n",
        "\n",
        "# selesaikan ODE\n",
        "y = odeint(model,y0,t)\n",
        "\n",
        "# gambar hasil\n",
        "plt.plot(t,y)\n",
        "plt.xlabel('waktu')\n",
        "plt.ylabel('y(t)')\n",
        "plt.show()\n"
      ],
      "execution_count": null,
      "outputs": [
        {
          "output_type": "display_data",
          "data": {
            "image/png": "[encoded data removed]",
            "text/plain": [
              "<Figure size 432x288 with 1 Axes>"
            ]
          },
          "metadata": {
            "needs_background": "light"
          }
        }
      ]
    },
    {
      "cell_type": "code",
      "metadata": {
        "colab": {
          "base_uri": "https://localhost:8080/",
          "height": 290
        },
        "id": "ropxORG71-y5",
        "outputId": "cf9d74a3-2869-4a55-adf3-e62a4801952a"
      },
      "source": [
        "import numpy as np\n",
        "from scipy.integrate import odeint\n",
        "import matplotlib.pyplot as plt\n",
        "\n",
        "# fungsi untuk mendefinisikan dy/dt\n",
        "def model(y,t):\n",
        "    dydt =2+2*y+t+t*y\n",
        "    return dydt\n",
        "\n",
        "# nilai awal\n",
        "y0 = 10\n",
        "\n",
        "# x(t) dari t=0, hingga t=20\n",
        "t = np.linspace(0,20)\n",
        "\n",
        "# selesaikan ODE\n",
        "y = odeint(model,y0,t)\n",
        "\n",
        "# gambar hasil\n",
        "plt.plot(t,y)\n",
        "plt.xlabel('x(t)')\n",
        "plt.ylabel('y(t)')\n",
        "plt.show()\n"
      ],
      "execution_count": null,
      "outputs": [
        {
          "output_type": "display_data",
          "data": {
            "image/png": "[encoded data removed]",
            "text/plain": [
              "<Figure size 432x288 with 1 Axes>"
            ]
          },
          "metadata": {
            "needs_background": "light"
          }
        }
      ]
    },
    {
      "cell_type": "code",
      "metadata": {
        "colab": {
          "base_uri": "https://localhost:8080/",
          "height": 412
        },
        "id": "3-TkKQqk292O",
        "outputId": "cee59d93-39df-4ecf-e8c0-f5276a056152"
      },
      "source": [
        "import numpy as np\n",
        "from scipy.integrate import odeint\n",
        "import matplotlib.pyplot as plt\n",
        "\n",
        "# fungsi untuk mendefinisikan dy/dt\n",
        "def model(y,t):\n",
        "    dydt =2+2*y+t+t*y\n",
        "    return dydt\n",
        "\n",
        "# nilai awal\n",
        "y0 = 10\n",
        "\n",
        "# x(t) dari t=0, hingga t=100\n",
        "t = np.linspace(0,100)\n",
        "\n",
        "# selesaikan ODE\n",
        "y = odeint(model,y0,t)\n",
        "\n",
        "# gambar hasil\n",
        "plt.plot(t,y)\n",
        "plt.xlabel('x(t)')\n",
        "plt.ylabel('y(t)')\n",
        "plt.show()\n"
      ],
      "execution_count": null,
      "outputs": [
        {
          "output_type": "stream",
          "name": "stderr",
          "text": [
            "/usr/local/lib/python3.7/dist-packages/ipykernel_launcher.py:7: RuntimeWarning: overflow encountered in multiply\n",
            "  import sys\n",
            "/usr/local/lib/python3.7/dist-packages/ipykernel_launcher.py:7: RuntimeWarning: overflow encountered in add\n",
            "  import sys\n",
            "/usr/local/lib/python3.7/dist-packages/scipy/integrate/odepack.py:248: ODEintWarning: Illegal input detected (internal error). Run with full_output = 1 to get quantitative information.\n",
            "  warnings.warn(warning_msg, ODEintWarning)\n"
          ]
        },
        {
          "output_type": "display_data",
          "data": {
            "image/png": "[encoded data removed]",
            "text/plain": [
              "<Figure size 432x288 with 1 Axes>"
            ]
          },
          "metadata": {
            "needs_background": "light"
          }
        }
      ]
    },
    {
      "cell_type": "code",
      "metadata": {
        "colab": {
          "base_uri": "https://localhost:8080/",
          "height": 344
        },
        "id": "CVksS3Ef3DhR",
        "outputId": "4054d559-99b3-42ba-838e-26ff936e1b2c"
      },
      "source": [
        "import numpy as np\n",
        "from scipy.integrate import odeint\n",
        "import matplotlib.pyplot as plt\n",
        "\n",
        "# fungsi untuk mendefinisikan dy/dt\n",
        "def model(y,t):\n",
        "    dydt =2+2*y+t+t*y\n",
        "    return dydt\n",
        "\n",
        "# nilai awal\n",
        "y0 = 10\n",
        "\n",
        "# x(t) dari t=60, hingga t=100\n",
        "t = np.linspace(60,500)\n",
        "\n",
        "# selesaikan ODE\n",
        "y = odeint(model,y0,t)\n",
        "\n",
        "# gambar hasil\n",
        "plt.plot(t,y)\n",
        "plt.xlabel('x(t)')\n",
        "plt.ylabel('y(t)')\n",
        "plt.show()\n"
      ],
      "execution_count": null,
      "outputs": [
        {
          "output_type": "stream",
          "name": "stderr",
          "text": [
            "/usr/local/lib/python3.7/dist-packages/scipy/integrate/odepack.py:248: ODEintWarning: Excess work done on this call (perhaps wrong Dfun type). Run with full_output = 1 to get quantitative information.\n",
            "  warnings.warn(warning_msg, ODEintWarning)\n"
          ]
        },
        {
          "output_type": "display_data",
          "data": {
            "image/png": "[encoded data removed]",
            "text/plain": [
              "<Figure size 432x288 with 1 Axes>"
            ]
          },
          "metadata": {
            "needs_background": "light"
          }
        }
      ]
    },
    {
      "cell_type": "code",
      "metadata": {
        "id": "grwx6kJY5n4U",
        "colab": {
          "base_uri": "https://localhost:8080/",
          "height": 378
        },
        "outputId": "675a0b13-5f6c-45fd-d6cc-fa37822565f8"
      },
      "source": [
        "import numpy as np\n",
        "from scipy.integrate import odeint\n",
        "import matplotlib.pyplot as plt\n",
        "\n",
        "# fungsi untuk mendefinisikan dy/dt\n",
        "def model(y,t):\n",
        "    dydt =2+2*y+t+t*y\n",
        "    return dydt\n",
        "\n",
        "# nilai awal\n",
        "y0 = 8\n",
        "\n",
        "# x(t) dari t=0, hingga t=100\n",
        "t = np.linspace(0,100)\n",
        "\n",
        "# selesaikan ODE\n",
        "y = odeint(model,y0,t)\n",
        "\n",
        "# gambar hasil\n",
        "plt.plot(t,y)\n",
        "plt.xlabel('x(t)')\n",
        "plt.ylabel('y(t)')\n",
        "plt.show()\n"
      ],
      "execution_count": null,
      "outputs": [
        {
          "output_type": "stream",
          "name": "stderr",
          "text": [
            "/usr/local/lib/python3.7/dist-packages/ipykernel_launcher.py:7: RuntimeWarning: overflow encountered in add\n",
            "  import sys\n",
            "/usr/local/lib/python3.7/dist-packages/scipy/integrate/odepack.py:248: ODEintWarning: Illegal input detected (internal error). Run with full_output = 1 to get quantitative information.\n",
            "  warnings.warn(warning_msg, ODEintWarning)\n"
          ]
        },
        {
          "output_type": "display_data",
          "data": {
            "image/png": "[encoded data removed]",
            "text/plain": [
              "<Figure size 432x288 with 1 Axes>"
            ]
          },
          "metadata": {
            "needs_background": "light"
          }
        }
      ]
    },
    {
      "cell_type": "code",
      "metadata": {
        "colab": {
          "base_uri": "https://localhost:8080/",
          "height": 279
        },
        "id": "Bv4EYZPf5ypn",
        "outputId": "46824265-54b4-4178-ab7b-cf2cef225423"
      },
      "source": [
        "import numpy as np\n",
        "from scipy.integrate import odeint\n",
        "import matplotlib.pyplot as plt\n",
        "\n",
        "# fungsi untuk mendefinisikan dy/dt\n",
        "def model(y,t):\n",
        "    k = 0.3\n",
        "    dydt = -k * y\n",
        "    return dydt\n",
        "\n",
        "# nilai awal\n",
        "y0 = 5\n",
        "\n",
        "# waktu dari t=0, hingga t=20\n",
        "t = np.linspace(0,20)\n",
        "\n",
        "# selesaikan ODE\n",
        "y = odeint(model,y0,t)\n",
        "\n",
        "# gambar hasil\n",
        "plt.plot(t,y)\n",
        "plt.xlabel('waktu')\n",
        "plt.ylabel('y(t)')\n",
        "plt.show()\n"
      ],
      "execution_count": null,
      "outputs": [
        {
          "output_type": "display_data",
          "data": {
            "image/png": "[encoded data removed]",
            "text/plain": [
              "<Figure size 432x288 with 1 Axes>"
            ]
          },
          "metadata": {
            "needs_background": "light"
          }
        }
      ]
    },
    {
      "cell_type": "code",
      "metadata": {
        "colab": {
          "base_uri": "https://localhost:8080/",
          "height": 290
        },
        "id": "mZ1xs_9F6Nry",
        "outputId": "97b73c64-d5ee-41eb-8eb3-632aa4c55383"
      },
      "source": [
        "import numpy as np\n",
        "from scipy.integrate import odeint\n",
        "import matplotlib.pyplot as plt\n",
        "\n",
        "# fungsi untuk mendefinisikan dy/dt\n",
        "def model(y,t):\n",
        "    dydt =2+2*y+t+t*y\n",
        "    return dydt\n",
        "\n",
        "# nilai awal\n",
        "y0 = 5\n",
        "\n",
        "# x(t) dari t=0, hingga t=20\n",
        "t = np.linspace(0,20)\n",
        "\n",
        "# selesaikan ODE\n",
        "y = odeint(model,y0,t)\n",
        "\n",
        "# gambar hasil\n",
        "plt.plot(t,y)\n",
        "plt.xlabel('x(t)')\n",
        "plt.ylabel('y(t)')\n",
        "plt.show()\n"
      ],
      "execution_count": null,
      "outputs": [
        {
          "output_type": "display_data",
          "data": {
            "image/png": "[encoded data removed]",
            "text/plain": [
              "<Figure size 432x288 with 1 Axes>"
            ]
          },
          "metadata": {
            "needs_background": "light"
          }
        }
      ]
    },
    {
      "cell_type": "code",
      "metadata": {
        "colab": {
          "base_uri": "https://localhost:8080/",
          "height": 290
        },
        "id": "SRW5c9Jk61xQ",
        "outputId": "3318a777-c3b8-4825-8079-d509be125476"
      },
      "source": [
        "import numpy as np\n",
        "from scipy.integrate import odeint\n",
        "import matplotlib.pyplot as plt\n",
        "\n",
        "# fungsi untuk mendefinisikan dy/dt\n",
        "def model(y,t):\n",
        "    dydt =2+2*y+t+t*y\n",
        "    return dydt\n",
        "\n",
        "# nilai awal\n",
        "y0 = 10\n",
        "\n",
        "# x(t) dari t=0, hingga t=20\n",
        "t = np.linspace(0,20)\n",
        "\n",
        "# selesaikan ODE\n",
        "y = odeint(model,y0,t)\n",
        "\n",
        "# gambar hasil\n",
        "plt.plot(t,y)\n",
        "plt.xlabel('x(t)')\n",
        "plt.ylabel('y(t)')\n",
        "plt.show()"
      ],
      "execution_count": null,
      "outputs": [
        {
          "output_type": "display_data",
          "data": {
            "image/png": "[encoded data removed]",
            "text/plain": [
              "<Figure size 432x288 with 1 Axes>"
            ]
          },
          "metadata": {
            "needs_background": "light"
          }
        }
      ]
    },
    {
      "cell_type": "code",
      "metadata": {
        "colab": {
          "base_uri": "https://localhost:8080/"
        },
        "id": "7sTO8m8Y7ZFs",
        "outputId": "c6661f8e-5884-44a6-d47e-d76498a42874"
      },
      "source": [
        "import numpy as np\n",
        "from scipy.integrate import odeint\n",
        "import matplotlib.pyplot as plt\n",
        "\n",
        "# fungsi untuk mendefinisikan dy/dt\n",
        "def model(y,t):\n",
        "    dydt =2+2*y+t+t*y\n",
        "    return dydt\n",
        "\n",
        "# nilai awal\n",
        "y0 = 0.02\n",
        "\n",
        "# x(t) dari t=0, hingga t=20\n",
        "t = np.linspace(0,20)\n",
        "\n",
        "# selesaikan ODE\n",
        "y = odeint(model,y0,t)\n",
        "\n",
        "# gambar hasil\n",
        "plt.plot(t,y)\n",
        "plt.xlabel('x(t)')\n",
        "plt.ylabel('y(t)')\n",
        "plt.show()"
      ],
      "execution_count": null,
      "outputs": [
        {
          "output_type": "display_data",
          "data": {
            "image/png": "[encoded data removed]",
            "text/plain": [
              "<Figure size 432x288 with 1 Axes>"
            ]
          },
          "metadata": {
            "needs_background": "light"
          }
        }
      ]
    }
  ]
}